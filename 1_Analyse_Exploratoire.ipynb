{
 "cells": [
  {
   "metadata": {},
   "cell_type": "markdown",
   "source": "# Import des modules",
   "id": "5dc50d5eeed0d06"
  },
  {
   "metadata": {
    "collapsed": true
   },
   "cell_type": "code",
   "outputs": [],
   "execution_count": null,
   "source": [
    "import numpy as np\n",
    "import pandas as pd\n",
    "import matplotlib.pyplot as plt\n",
    "import seaborn as sns\n",
    "from datetime import datetime\n",
    "from scipy.stats import pearsonr"
   ],
   "id": "c455b742bf692cdb"
  },
  {
   "metadata": {},
   "cell_type": "markdown",
   "source": [
    "# Extrait SIRH\n",
    "\n",
    "- Calcul des statistiques descriptives\n",
    "- Objectif : faire ressortir des différences clés entre les employés"
   ],
   "id": "522a35e8a06b07ee"
  },
  {
   "metadata": {},
   "cell_type": "code",
   "outputs": [],
   "execution_count": null,
   "source": "bc = pd.read_csv('seatle.csv')\n",
   "id": "4178a67c1481bbd9"
  },
  {
   "metadata": {},
   "cell_type": "markdown",
   "source": [
    "# Extrait Evaluation Performance\n",
    "\n",
    "- Calcul des statistiques descriptives\n",
    "- Objectif : faire ressortir des différences clés entre les employés"
   ],
   "id": "7318e4073bd69361"
  },
  {
   "metadata": {},
   "cell_type": "code",
   "outputs": [],
   "execution_count": null,
   "source": "bc = pd.read_csv('seatle.csv')\n",
   "id": "96f22f95c62e271a"
  },
  {
   "metadata": {},
   "cell_type": "markdown",
   "source": [
    "# Extrait Sondage\n",
    "\n",
    "- Calcul des statistiques descriptives\n",
    "- Objectif : faire ressortir des différences clés entre les employés"
   ],
   "id": "3b5b397311f0a6cd"
  },
  {
   "metadata": {},
   "cell_type": "code",
   "outputs": [],
   "execution_count": null,
   "source": "bc = pd.read_csv('seatle.csv')\n",
   "id": "8014a93a8a42c971"
  },
  {
   "metadata": {},
   "cell_type": "markdown",
   "source": [
    "# Création du fichier central\n",
    "\n",
    "- Identifier les colonnes permettant de réaliser des jointures entre les 3 fichiers."
   ],
   "id": "8dd35fa1b3ad6167"
  },
  {
   "metadata": {},
   "cell_type": "code",
   "outputs": [],
   "execution_count": null,
   "source": [
    "###########\n",
    "# PANDAS\n",
    "##########\n",
    "\n",
    "##########\n",
    "# SQL\n",
    "##########"
   ],
   "id": "369aae20645aca0c"
  }
 ],
 "metadata": {
  "kernelspec": {
   "display_name": "Python 3",
   "language": "python",
   "name": "python3"
  },
  "language_info": {
   "codemirror_mode": {
    "name": "ipython",
    "version": 2
   },
   "file_extension": ".py",
   "mimetype": "text/x-python",
   "name": "python",
   "nbconvert_exporter": "python",
   "pygments_lexer": "ipython2",
   "version": "2.7.6"
  }
 },
 "nbformat": 4,
 "nbformat_minor": 5
}
